{
 "cells": [
  {
   "cell_type": "code",
   "execution_count": 3,
   "id": "512fff79",
   "metadata": {},
   "outputs": [
    {
     "name": "stdout",
     "output_type": "stream",
     "text": [
      "--------------------------------\n",
      "PDF password setter and cracker\n",
      "--------------------------------\n",
      "MENU\n",
      "1. set password \n",
      "2. crack password\n",
      "enter your choice: 1\n",
      "enter pdf name::demo.pdf\n",
      "enter password::3433\n",
      "name of new encrypted pdf is \"new.pdf\"\n"
     ]
    }
   ],
   "source": [
    "print(\"--------------------------------\")\n",
    "print(\"PDF password setter and cracker\")\n",
    "print(\"--------------------------------\")\n",
    "print('MENU\\n1. set password \\n2. crack password')\n",
    "choice=int(input('enter your choice: '))\n",
    "if choice==1:\n",
    "    import pikepdf\n",
    "    f=input(\"enter pdf name::\")\n",
    "    u=input('enter password::')\n",
    "    old_pdf = pikepdf.Pdf.open(f)\n",
    "    old_pdf.save(\"new.pdf\",encryption= pikepdf.Encryption (user=u))\n",
    "    print(\"name of new encrypted pdf is \\\"new.pdf\\\"\")\n",
    "\n",
    "elif choice==2:\n",
    "    import pikepdf\n",
    "    from plyer import notification\n",
    "    from tqdm import tqdm\n",
    "    p=open('f1list.txt')\n",
    "    ppdf=input(\"protected pdf: \")\n",
    "    # load password list\n",
    "    passwords = [line.strip() for line in p]\n",
    "\n",
    "    # iterate over passwords\n",
    "    for password in tqdm(passwords, \"Decrypting PDF\"):\n",
    "        try:\n",
    "            # open PDF file\n",
    "            with pikepdf.open(ppdf, password=password) as pdf:\n",
    "                # Password decrypted successfully, break out of the loop\n",
    "                notification_title =password  \n",
    "                \n",
    "                notification.notify(title =notification_title,message = \"is your password\")  \n",
    "                print(\"your password is::\",password)\n",
    "                break\n",
    "\n",
    "        except pikepdf._qpdf.PasswordError as e:\n",
    "            # wrong password, just continue in the loop\n",
    "            continue\n",
    "\n",
    "else:\n",
    "    print(\"invalid choice\")"
   ]
  },
  {
   "cell_type": "code",
   "execution_count": null,
   "id": "ee3ae58c",
   "metadata": {},
   "outputs": [],
   "source": []
  }
 ],
 "metadata": {
  "kernelspec": {
   "display_name": "Python 3 (ipykernel)",
   "language": "python",
   "name": "python3"
  },
  "language_info": {
   "codemirror_mode": {
    "name": "ipython",
    "version": 3
   },
   "file_extension": ".py",
   "mimetype": "text/x-python",
   "name": "python",
   "nbconvert_exporter": "python",
   "pygments_lexer": "ipython3",
   "version": "3.11.1"
  }
 },
 "nbformat": 4,
 "nbformat_minor": 5
}
